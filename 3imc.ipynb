{
  "nbformat": 4,
  "nbformat_minor": 0,
  "metadata": {
    "colab": {
      "provenance": []
    },
    "kernelspec": {
      "name": "python3",
      "display_name": "Python 3"
    },
    "language_info": {
      "name": "python"
    }
  },
  "cells": [
    {
      "cell_type": "code",
      "execution_count": 23,
      "metadata": {
        "id": "3igW8J5Q79W6"
      },
      "outputs": [],
      "source": [
        "#importing necessary libraries\n",
        "import tensorflow as tf\n",
        "from tensorflow import keras\n",
        "from keras.models import Sequential\n",
        "from keras.layers import Dense,Conv2D,Dropout,Flatten,MaxPooling2D\n",
        "import matplotlib.pyplot as plt\n",
        "import numpy as np"
      ]
    },
    {
      "cell_type": "code",
      "source": [
        "#loading & preprocessing image data\n",
        "mnist=tf.keras.datasets.mnist\n",
        "(x_train,y_train),(x_test,y_test)=mnist.load_data()"
      ],
      "metadata": {
        "id": "42h-4Y-_80qx"
      },
      "execution_count": 24,
      "outputs": []
    },
    {
      "cell_type": "code",
      "source": [
        "#from tensorflow.python.ops.gen_array_ops import reshape\n",
        "#making float values\n",
        "x_train=x_train.reshape(x_train.shape[0],28,28,1)\n",
        "x_test=x_test.reshape(x_test.shape[0],28,28,1)"
      ],
      "metadata": {
        "id": "MlcYdWvL9O_D"
      },
      "execution_count": 25,
      "outputs": []
    },
    {
      "cell_type": "code",
      "source": [
        "x_train=x_train.astype('float32')\n",
        "x_test=x_test.astype('float32')"
      ],
      "metadata": {
        "id": "YAbq53Vs-D6h"
      },
      "execution_count": 26,
      "outputs": []
    },
    {
      "cell_type": "code",
      "source": [
        "#normalizing data rgb codes by it to maxrgb value\n",
        "x_train=x_train/255\n",
        "x_test=x_test/255\n",
        "print(\"shape of tarining:\",x_train.shape)\n",
        "print(\"shape of testing:\",x_test.shape)"
      ],
      "metadata": {
        "colab": {
          "base_uri": "https://localhost:8080/"
        },
        "id": "yFU3sOha-VjC",
        "outputId": "c100cd44-b644-460c-ee28-3d63c92d5b73"
      },
      "execution_count": 27,
      "outputs": [
        {
          "output_type": "stream",
          "name": "stdout",
          "text": [
            "shape of tarining: (60000, 28, 28, 1)\n",
            "shape of testing: (10000, 28, 28, 1)\n"
          ]
        }
      ]
    },
    {
      "cell_type": "code",
      "source": [
        "#define model architecture\n",
        "model=keras.Sequential([\n",
        "keras.layers.Conv2D(32,(3,3),activation='relu'),\n",
        "keras.layers.MaxPooling2D(pool_size=(2,2)),\n",
        "keras.layers.Flatten(input_shape=(28,28)),\n",
        "keras.layers.Dense(200,activation='relu'),\n",
        "keras.layers.Dropout(0.3),\n",
        "keras.layers.Dense(10,activation='softmax')])\n",
        "\n",
        "\n"
      ],
      "metadata": {
        "id": "Lpxo4hjY_BIe"
      },
      "execution_count": 28,
      "outputs": []
    },
    {
      "cell_type": "code",
      "source": [
        "from tensorflow.python import metrics\n",
        "model.compile(optimizer='adam',loss='sparse_categorical_crossentropy',metrics=['accuracy'])"
      ],
      "metadata": {
        "id": "WqyTywsnKroU"
      },
      "execution_count": 29,
      "outputs": []
    },
    {
      "cell_type": "code",
      "source": [
        "model.fit(x_train,y_train,epochs=2)"
      ],
      "metadata": {
        "colab": {
          "base_uri": "https://localhost:8080/"
        },
        "id": "IOnUX6QbMFpA",
        "outputId": "c8ff0df1-ea03-4248-9138-eb5b728d0362"
      },
      "execution_count": 31,
      "outputs": [
        {
          "output_type": "stream",
          "name": "stdout",
          "text": [
            "Epoch 1/2\n",
            "1875/1875 [==============================] - 43s 23ms/step - loss: 0.0088 - accuracy: 0.9969\n",
            "Epoch 2/2\n",
            "1875/1875 [==============================] - 42s 23ms/step - loss: 0.0076 - accuracy: 0.9974\n"
          ]
        },
        {
          "output_type": "execute_result",
          "data": {
            "text/plain": [
              "<keras.callbacks.History at 0x7f6598ac1610>"
            ]
          },
          "metadata": {},
          "execution_count": 31
        }
      ]
    },
    {
      "cell_type": "code",
      "execution_count": 30,
      "metadata": {
        "id": "10e70136",
        "outputId": "c116ed74-7872-4dff-a5b4-ac927aa8586e",
        "colab": {
          "base_uri": "https://localhost:8080/"
        }
      },
      "outputs": [
        {
          "output_type": "stream",
          "name": "stdout",
          "text": [
            "Epoch 1/10\n",
            "1875/1875 [==============================] - 50s 26ms/step - loss: 0.1673 - accuracy: 0.9489 - val_loss: 0.0594 - val_accuracy: 0.9814\n",
            "Epoch 2/10\n",
            "1875/1875 [==============================] - 45s 24ms/step - loss: 0.0601 - accuracy: 0.9813 - val_loss: 0.0399 - val_accuracy: 0.9868\n",
            "Epoch 3/10\n",
            "1875/1875 [==============================] - 50s 26ms/step - loss: 0.0407 - accuracy: 0.9867 - val_loss: 0.0395 - val_accuracy: 0.9857\n",
            "Epoch 4/10\n",
            "1875/1875 [==============================] - 46s 25ms/step - loss: 0.0312 - accuracy: 0.9900 - val_loss: 0.0383 - val_accuracy: 0.9875\n",
            "Epoch 5/10\n",
            "1875/1875 [==============================] - 45s 24ms/step - loss: 0.0231 - accuracy: 0.9925 - val_loss: 0.0351 - val_accuracy: 0.9885\n",
            "Epoch 6/10\n",
            "1875/1875 [==============================] - 44s 24ms/step - loss: 0.0176 - accuracy: 0.9938 - val_loss: 0.0391 - val_accuracy: 0.9885\n",
            "Epoch 7/10\n",
            "1875/1875 [==============================] - 44s 24ms/step - loss: 0.0153 - accuracy: 0.9948 - val_loss: 0.0390 - val_accuracy: 0.9888\n",
            "Epoch 8/10\n",
            "1875/1875 [==============================] - 46s 24ms/step - loss: 0.0116 - accuracy: 0.9960 - val_loss: 0.0411 - val_accuracy: 0.9884\n",
            "Epoch 9/10\n",
            "1875/1875 [==============================] - 45s 24ms/step - loss: 0.0103 - accuracy: 0.9964 - val_loss: 0.0383 - val_accuracy: 0.9895\n",
            "Epoch 10/10\n",
            "1875/1875 [==============================] - 44s 24ms/step - loss: 0.0091 - accuracy: 0.9970 - val_loss: 0.0464 - val_accuracy: 0.9887\n"
          ]
        }
      ],
      "source": [
        "history=model.fit(x_train,y_train,validation_data=(x_test,y_test),epochs=10)"
      ]
    },
    {
      "cell_type": "code",
      "source": [
        "  #estimating model's performance\n",
        "  test_loss,test_acc=model.evaluate(x_test,y_test)\n",
        "  print(\"Loss=%.3f\"%test_loss)\n",
        "  print(\"accuracy=%.3f\" %test_acc)"
      ],
      "metadata": {
        "colab": {
          "base_uri": "https://localhost:8080/"
        },
        "id": "B-vNsxjZREBV",
        "outputId": "f4d0e441-7c3a-4782-c284-15110420e2f9"
      },
      "execution_count": 41,
      "outputs": [
        {
          "output_type": "stream",
          "name": "stdout",
          "text": [
            "313/313 [==============================] - 2s 8ms/step - loss: 0.0405 - accuracy: 0.9906\n",
            "Loss=0.040\n",
            "accuracy=0.991\n"
          ]
        }
      ]
    },
    {
      "cell_type": "code",
      "source": [
        "#showing img at position from dataset\n",
        "image=x_train[0]\n",
        "plt.imshow(np.squeeze(image),cmap='gray')\n",
        "plt.show()"
      ],
      "metadata": {
        "colab": {
          "base_uri": "https://localhost:8080/",
          "height": 265
        },
        "id": "G0xEIXHUT7wo",
        "outputId": "e7b25854-aa1b-4446-9e94-b789284e6cfc"
      },
      "execution_count": 43,
      "outputs": [
        {
          "output_type": "display_data",
          "data": {
            "text/plain": [
              "<Figure size 432x288 with 1 Axes>"
            ],
            "image/png": "[encoded data removed]"
          },
          "metadata": {
            "needs_background": "light"
          }
        }
      ]
    },
    {
      "cell_type": "code",
      "source": [
        "#predicting class of image\n",
        "Image=image.reshape(1,image.shape[0],image.shape[1],image.shape[2])\n",
        "predict_model=model.predict([Image])\n",
        "print(\"predicted calss:\",format(np.argmax(predict_model)))"
      ],
      "metadata": {
        "colab": {
          "base_uri": "https://localhost:8080/"
        },
        "id": "dWWnrErVUgJ0",
        "outputId": "8a5756f4-6faa-45bf-f674-e4db1bcad5a7"
      },
      "execution_count": 49,
      "outputs": [
        {
          "output_type": "stream",
          "name": "stdout",
          "text": [
            "1/1 [==============================] - 0s 18ms/step\n",
            "predicted calss: 5\n"
          ]
        }
      ]
    }
  ]
}